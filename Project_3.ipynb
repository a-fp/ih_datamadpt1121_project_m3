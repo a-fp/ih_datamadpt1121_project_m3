{
 "cells": [
  {
   "cell_type": "markdown",
   "id": "e58011eb",
   "metadata": {},
   "source": [
    "https://www.kaggle.com/competitions/dataptmad1121"
   ]
  },
  {
   "cell_type": "code",
   "execution_count": 876,
   "id": "44e8554e",
   "metadata": {},
   "outputs": [],
   "source": [
    "from sqlalchemy import create_engine\n",
    "import pandas as pd\n",
    "\n",
    "import seaborn as sns\n",
    "\n",
    "from sklearn.model_selection import train_test_split\n",
    "from sklearn.preprocessing import StandardScaler\n",
    "from sklearn.ensemble import RandomForestRegressor\n",
    "from sklearn.metrics import mean_squared_error\n",
    "from sklearn.preprocessing import OrdinalEncoder"
   ]
  },
  {
   "cell_type": "code",
   "execution_count": 877,
   "id": "ab99bbf9",
   "metadata": {},
   "outputs": [
    {
     "name": "stdout",
     "output_type": "stream",
     "text": [
      "['diamonds_city', 'diamonds_clarity', 'diamonds_color', 'diamonds_cut', 'diamonds_dimensions', 'diamonds_properties', 'diamonds_transactional']\n"
     ]
    },
    {
     "name": "stderr",
     "output_type": "stream",
     "text": [
      "/Users/albertofernandez/miniconda3/envs/proj_m3/lib/python3.7/site-packages/ipykernel_launcher.py:2: SADeprecationWarning: The Engine.table_names() method is deprecated and will be removed in a future release.  Please refer to Inspector.get_table_names(). (deprecated since: 1.4)\n",
      "  \n"
     ]
    }
   ],
   "source": [
    "engine=create_engine('sqlite:///data/diamonds_train.db')\n",
    "table_names = engine.table_names()\n",
    "print(table_names)"
   ]
  },
  {
   "cell_type": "code",
   "execution_count": 878,
   "id": "5d11bd4d",
   "metadata": {},
   "outputs": [],
   "source": [
    "diamonds_clarity = pd.read_sql_query(\"Select * from diamonds_clarity\",engine)\n",
    "diamonds_color = pd.read_sql_query(\"Select * from diamonds_color\",engine)\n",
    "diamonds_cut = pd.read_sql_query(\"Select * from diamonds_cut\",engine)\n",
    "diamonds_dimensions = pd.read_sql_query(\"Select * from diamonds_dimensions\",engine)\n",
    "diamonds_properties = pd.read_sql_query(\"Select * from diamonds_properties\",engine)\n",
    "diamonds_transactional = pd.read_sql_query(\"Select * from diamonds_transactional\",engine)\n",
    "diamonds_city = pd.read_sql_query(\"Select * from diamonds_city\",engine)"
   ]
  },
  {
   "cell_type": "code",
   "execution_count": 879,
   "id": "29a02fff",
   "metadata": {},
   "outputs": [],
   "source": [
    "query_1='''SELECT \n",
    "            propertis.index_id,\n",
    "            clarity.clarity,\n",
    "            color.color,\n",
    "            cut.cut,\n",
    "            dimensions.depth,\n",
    "            dimensions.'table',\n",
    "            dimensions.x,\n",
    "            dimensions.y,\n",
    "            dimensions.z,\n",
    "            transactional.price,\n",
    "            transactional.carat,\n",
    "            city.city\n",
    "        FROM diamonds_properties as propertis\n",
    "        LEFT JOIN diamonds_clarity as clarity ON propertis.clarity_id = clarity.clarity_id\n",
    "        LEFT JOIN diamonds_color as color ON propertis.color_id = color.color_id\n",
    "        LEFT JOIN diamonds_cut as cut ON propertis.cut_id = cut.cut_id\n",
    "        LEFT JOIN diamonds_dimensions as dimensions ON propertis.index_id = dimensions.index_id\n",
    "        LEFT JOIN diamonds_transactional as transactional ON propertis.index_id = transactional.index_id\n",
    "        LEFT JOIN diamonds_city as city ON transactional.city_id = city.city_id'''"
   ]
  },
  {
   "cell_type": "code",
   "execution_count": 880,
   "id": "095db117",
   "metadata": {},
   "outputs": [],
   "source": [
    "train_df= pd.read_sql_query(query_1,engine)\n",
    "test_df = pd.read_csv('data/diamonds_test.csv')#Con este hago la predición para subirlo a kaggle. "
   ]
  },
  {
   "cell_type": "code",
   "execution_count": 881,
   "id": "086f264b",
   "metadata": {},
   "outputs": [
    {
     "data": {
      "text/plain": [
       "18377      326\n",
       "9782       326\n",
       "18381      327\n",
       "20968      334\n",
       "12084      335\n",
       "         ...  \n",
       "618      18795\n",
       "25529    18797\n",
       "29107    18806\n",
       "3990     18818\n",
       "7034     18823\n",
       "Name: price, Length: 40455, dtype: int64"
      ]
     },
     "execution_count": 881,
     "metadata": {},
     "output_type": "execute_result"
    }
   ],
   "source": [
    "train_df[\"price\"].sort_values()"
   ]
  },
  {
   "cell_type": "code",
   "execution_count": 882,
   "id": "17779c67",
   "metadata": {},
   "outputs": [
    {
     "name": "stderr",
     "output_type": "stream",
     "text": [
      "/Users/albertofernandez/miniconda3/envs/proj_m3/lib/python3.7/site-packages/seaborn/_decorators.py:43: FutureWarning: Pass the following variable as a keyword arg: x. From version 0.12, the only valid positional argument will be `data`, and passing other arguments without an explicit keyword will result in an error or misinterpretation.\n",
      "  FutureWarning\n"
     ]
    },
    {
     "data": {
      "text/plain": [
       "<AxesSubplot:xlabel='price'>"
      ]
     },
     "execution_count": 882,
     "metadata": {},
     "output_type": "execute_result"
    },
    {
     "data": {
      "image/png": "[encoded data removed]",
      "text/plain": [
       "<Figure size 432x288 with 1 Axes>"
      ]
     },
     "metadata": {},
     "output_type": "display_data"
    }
   ],
   "source": [
    "# Box Plot\n",
    "sns.boxplot(train_df['price'])"
   ]
  },
  {
   "cell_type": "code",
   "execution_count": 885,
   "id": "862b223e",
   "metadata": {},
   "outputs": [],
   "source": [
    "# Creamos el codificador indicandole el orden de la variables\n",
    "encoder = OrdinalEncoder(categories=[['J', 'I', 'H', 'G', 'F', 'E', 'D']])\n",
    "# Ajustamos el codificador con la variable education y la transformamos\n",
    "encoder.fit(train_df[[\"color\"]])\n",
    "train_df[\"color-encoded\"] = encoder.transform(train_df[[\"color\"]])\n",
    "train_df.drop(\"color\", axis = 1 , inplace = True)\n",
    "\n",
    "encoder = OrdinalEncoder(categories=[['Fair', 'Good', 'Very Good', 'Premium', 'Ideal']])\n",
    "encoder.fit(train_df[[\"cut\"]])\n",
    "train_df[\"cut-encoded\"] = encoder.transform(train_df[[\"cut\"]])\n",
    "train_df.drop(\"cut\", axis = 1 , inplace = True)\n",
    "\n",
    "encoder = OrdinalEncoder(categories=[['I1', 'SI2', 'SI1', 'VS2', 'VS1', 'VVS2', 'VVS1', 'IF']])\n",
    "encoder.fit(train_df[[\"clarity\"]])\n",
    "train_df[\"clarity-encoded\"] = encoder.transform(train_df[[\"clarity\"]])\n",
    "train_df.drop(\"clarity\", axis = 1 , inplace = True)"
   ]
  },
  {
   "cell_type": "code",
   "execution_count": 886,
   "id": "2f0ea0d9",
   "metadata": {},
   "outputs": [],
   "source": [
    "# Creamos el codificador indicandole el orden de la variables\n",
    "encoder = OrdinalEncoder(categories=[['J', 'I', 'H', 'G', 'F', 'E', 'D']])\n",
    "# Ajustamos el codificador con la variable education y la transformamos\n",
    "encoder.fit(test_df[[\"color\"]])\n",
    "test_df[\"color-encoded\"] = encoder.transform(test_df[[\"color\"]])\n",
    "test_df.drop(\"color\", axis = 1 , inplace = True)\n",
    "\n",
    "# Creamos el codificador indicandole el orden de la variables\n",
    "encoder = OrdinalEncoder(categories=[['Fair', 'Good', 'Very Good', 'Premium', 'Ideal']])\n",
    "# Ajustamos el codificador con la variable education y la transformamos\n",
    "encoder.fit(test_df[[\"cut\"]])\n",
    "test_df[\"cut-encoded\"] = encoder.transform(test_df[[\"cut\"]])\n",
    "test_df.drop(\"cut\", axis = 1 , inplace = True)\n",
    "\n",
    "# Creamos el codificador indicandole el orden de la variables\n",
    "encoder = OrdinalEncoder(categories=[['I1', 'SI2', 'SI1', 'VS2', 'VS1', 'VVS2', 'VVS1', 'IF']])\n",
    "# Ajustamos el codificador con la variable education y la transformamos\n",
    "encoder.fit(test_df[[\"clarity\"]])\n",
    "test_df[\"clarity-encoded\"] = encoder.transform(test_df[[\"clarity\"]])\n",
    "test_df.drop(\"clarity\", axis = 1 , inplace = True)"
   ]
  },
  {
   "cell_type": "code",
   "execution_count": 887,
   "id": "536e2b3b",
   "metadata": {},
   "outputs": [],
   "source": [
    "target='price'\n",
    "cat_features = ['cut-encoded','clarity-encoded','color-encoded']\n",
    "num_features = ['depth','table','x','y','z','carat']\n",
    "#Las columnas de categoria la paso a formato categoría como buena práctica.\n",
    "for cat_feat in cat_features:\n",
    "    train_df[cat_feat]=train_df[cat_feat].astype('category')\n",
    "    test_df[cat_feat]=test_df[cat_feat].astype('category')\n",
    "\n",
    "#Preparo el trainning. Separo el df en categorica y en numerico, y lo junto. \n",
    "cat_df = train_df[cat_features]#Paso las categoricas a 0 y 1. Df solo CATEGORICO.\n",
    "num_df = train_df.loc[:,num_features]#Df solo NUMERICO.\n",
    "df_train = pd.concat([cat_df, num_df], axis=1)#Aquí uno los dos df.\n",
    "\n",
    "\n",
    "#Preparo el test\n",
    "cat_df = test_df[cat_features]\n",
    "num_df = test_df.loc[:,num_features]\n",
    "df_test = pd.concat([cat_df, num_df], axis=1)\n",
    "    \n",
    "features = list(cat_df.columns) + list(num_df.columns)#Estas son mi features, sin el label o target. "
   ]
  },
  {
   "cell_type": "code",
   "execution_count": 888,
   "id": "a8a5df8f",
   "metadata": {},
   "outputs": [],
   "source": [
    "scaler = StandardScaler()\n",
    "X=scaler.fit_transform(df_train.loc[:,features].values)\n",
    "y=train_df[target]"
   ]
  },
  {
   "cell_type": "code",
   "execution_count": 889,
   "id": "ff06c837",
   "metadata": {},
   "outputs": [],
   "source": [
    "X_train, X_validation, y_train, y_validation = train_test_split(X, y, test_size=0.2, train_size=0.8, random_state=42)"
   ]
  },
  {
   "cell_type": "code",
   "execution_count": 890,
   "id": "579afb04",
   "metadata": {},
   "outputs": [
    {
     "data": {
      "text/plain": [
       "RandomForestRegressor(random_state=42)"
      ]
     },
     "execution_count": 890,
     "metadata": {},
     "output_type": "execute_result"
    }
   ],
   "source": [
    "#Entreno el modelo. \n",
    "model=RandomForestRegressor(random_state=42) \n",
    "model.fit(X=X,y=y)"
   ]
  },
  {
   "cell_type": "code",
   "execution_count": 891,
   "id": "a12a7816",
   "metadata": {},
   "outputs": [],
   "source": [
    "#Hago el scaler al Test, solo a los valores. \n",
    "X_test=scaler.transform(df_test.loc[:,features].values)"
   ]
  },
  {
   "cell_type": "code",
   "execution_count": 892,
   "id": "376ed702",
   "metadata": {},
   "outputs": [],
   "source": [
    "#REALIZO LA PREDICCION \n",
    "Price_predict = model.predict(X_test).clip(300,20000) #Esto es con el data entero\n",
    "#Price_predict = model.predict(X_validation).clip(300,30000)"
   ]
  },
  {
   "cell_type": "code",
   "execution_count": 893,
   "id": "439ea8cc",
   "metadata": {},
   "outputs": [],
   "source": [
    "# RMSE calculation\n",
    "\n",
    "#rmse = mean_squared_error(y_validation, Price_predict)**0.5\n",
    "#rmse"
   ]
  },
  {
   "cell_type": "code",
   "execution_count": 894,
   "id": "ad630d89",
   "metadata": {},
   "outputs": [],
   "source": [
    "#convertimos a dataframe y le damos forma\n",
    "submission = pd.DataFrame({\"id\": test_df[\"id\"],\"price\": Price_predict})\n",
    "\n",
    "submission.to_csv('submission.csv', index=False)"
   ]
  }
 ],
 "metadata": {
  "interpreter": {
   "hash": "3bab7637055d00799d62176921bff9f563af24c1564d926eb8e388ce9a8fb043"
  },
  "kernelspec": {
   "display_name": "Python [conda env:proj_m3]",
   "language": "python",
   "name": "python3"
  },
  "language_info": {
   "codemirror_mode": {
    "name": "ipython",
    "version": 3
   },
   "file_extension": ".py",
   "mimetype": "text/x-python",
   "name": "python",
   "nbconvert_exporter": "python",
   "pygments_lexer": "ipython3",
   "version": "3.7.13"
  }
 },
 "nbformat": 4,
 "nbformat_minor": 5
}
